{
 "cells": [
  {
   "cell_type": "code",
   "execution_count": 1,
   "id": "a3bc5577",
   "metadata": {},
   "outputs": [
    {
     "name": "stdout",
     "output_type": "stream",
     "text": [
      "Requirement already satisfied: pip in d:\\anaconda3\\lib\\site-packages (25.1.1)\n",
      "Requirement already satisfied: pip in d:\\anaconda3\\lib\\site-packages (25.1.1)\n",
      "Requirement already satisfied: nltk in d:\\anaconda3\\lib\\site-packages (3.7)\n",
      "Requirement already satisfied: click in d:\\anaconda3\\lib\\site-packages (from nltk) (8.0.4)\n",
      "Requirement already satisfied: joblib in d:\\anaconda3\\lib\\site-packages (from nltk) (1.1.0)\n",
      "Requirement already satisfied: regex>=2021.8.3 in d:\\anaconda3\\lib\\site-packages (from nltk) (2022.3.15)\n",
      "Requirement already satisfied: tqdm in d:\\anaconda3\\lib\\site-packages (from nltk) (4.64.0)\n",
      "Requirement already satisfied: colorama in d:\\anaconda3\\lib\\site-packages (from click->nltk) (0.4.4)\n",
      "Requirement already satisfied: vaderSentiment in d:\\anaconda3\\lib\\site-packages (3.3.2)\n",
      "Requirement already satisfied: requests in d:\\anaconda3\\lib\\site-packages (from vaderSentiment) (2.27.1)\n",
      "Requirement already satisfied: urllib3<1.27,>=1.21.1 in d:\\anaconda3\\lib\\site-packages (from requests->vaderSentiment) (1.26.9)\n",
      "Requirement already satisfied: certifi>=2017.4.17 in d:\\anaconda3\\lib\\site-packages (from requests->vaderSentiment) (2021.10.8)\n",
      "Requirement already satisfied: charset-normalizer~=2.0.0 in d:\\anaconda3\\lib\\site-packages (from requests->vaderSentiment) (2.0.4)\n",
      "Requirement already satisfied: idna<4,>=2.5 in d:\\anaconda3\\lib\\site-packages (from requests->vaderSentiment) (3.3)\n",
      "Post: I love my new phone, it’s amazing!\n",
      "Sentiment: Positive\n",
      "Sentiment Scores: {'neg': 0.0, 'neu': 0.376, 'pos': 0.624, 'compound': 0.8516}\n",
      "--------------------------------------------------\n",
      "Post: I can't believe how bad the service was today, so disappointing!\n",
      "Sentiment: Negative\n",
      "Sentiment Scores: {'neg': 0.271, 'neu': 0.554, 'pos': 0.175, 'compound': -0.3733}\n",
      "--------------------------------------------------\n",
      "Post: Had a wonderful time at the beach with friends. Perfect day!\n",
      "Sentiment: Positive\n",
      "Sentiment Scores: {'neg': 0.0, 'neu': 0.426, 'pos': 0.574, 'compound': 0.8955}\n",
      "--------------------------------------------------\n",
      "Post: The weather is just okay today, not too hot or cold.\n",
      "Sentiment: Positive\n",
      "Sentiment Scores: {'neg': 0.0, 'neu': 0.84, 'pos': 0.16, 'compound': 0.2263}\n",
      "--------------------------------------------------\n",
      "Post: Not sure if I should go to the concert tonight or stay in, any advice?\n",
      "Sentiment: Negative\n",
      "Sentiment Scores: {'neg': 0.123, 'neu': 0.877, 'pos': 0.0, 'compound': -0.2411}\n",
      "--------------------------------------------------\n"
     ]
    },
    {
     "name": "stderr",
     "output_type": "stream",
     "text": [
      "[nltk_data] Downloading package vader_lexicon to\n",
      "[nltk_data]     C:\\Users\\Dell\\AppData\\Roaming\\nltk_data...\n",
      "[nltk_data]   Package vader_lexicon is already up-to-date!\n"
     ]
    }
   ],
   "source": [
    "!python -m pip install --upgrade pip\n",
    "\n",
    "!pip install --upgrade pip\n",
    "\n",
    "!pip install nltk\n",
    "!pip install vaderSentiment\n",
    "\n",
    "import nltk\n",
    "from vaderSentiment.vaderSentiment import SentimentIntensityAnalyzer\n",
    "\n",
    "# Make sure to download necessary NLTK data\n",
    "nltk.download('vader_lexicon')\n",
    "\n",
    "# Sample social media posts\n",
    "social_media_posts = [\n",
    "    \"I love my new phone, it’s amazing!\",\n",
    "    \"I can't believe how bad the service was today, so disappointing!\",\n",
    "    \"Had a wonderful time at the beach with friends. Perfect day!\",\n",
    "    \"The weather is just okay today, not too hot or cold.\",\n",
    "    \"Not sure if I should go to the concert tonight or stay in, any advice?\"\n",
    "]\n",
    "\n",
    "# Initialize the sentiment intensity analyzer\n",
    "analyzer = SentimentIntensityAnalyzer()\n",
    "\n",
    "# Analyze sentiment for each social media post\n",
    "for post in social_media_posts:\n",
    "    # Get the sentiment scores\n",
    "    sentiment_scores = analyzer.polarity_scores(post)\n",
    "    \n",
    "    # Determine sentiment based on compound score\n",
    "    compound_score = sentiment_scores['compound']\n",
    "    if compound_score >= 0.05:\n",
    "        sentiment = \"Positive\"\n",
    "    elif compound_score <= -0.05:\n",
    "        sentiment = \"Negative\"\n",
    "    else:\n",
    "        sentiment = \"Neutral\"\n",
    "    \n",
    "    # Print results\n",
    "    print(f\"Post: {post}\")\n",
    "    print(f\"Sentiment: {sentiment}\")\n",
    "    print(f\"Sentiment Scores: {sentiment_scores}\")\n",
    "    print(\"-\" * 50)\n"
   ]
  },
  {
   "cell_type": "code",
   "execution_count": null,
   "id": "192819c0",
   "metadata": {},
   "outputs": [],
   "source": []
  }
 ],
 "metadata": {
  "kernelspec": {
   "display_name": "Python 3 (ipykernel)",
   "language": "python",
   "name": "python3"
  },
  "language_info": {
   "codemirror_mode": {
    "name": "ipython",
    "version": 3
   },
   "file_extension": ".py",
   "mimetype": "text/x-python",
   "name": "python",
   "nbconvert_exporter": "python",
   "pygments_lexer": "ipython3",
   "version": "3.9.12"
  }
 },
 "nbformat": 4,
 "nbformat_minor": 5
}
